{
 "cells": [
  {
   "cell_type": "code",
   "execution_count": 2,
   "metadata": {},
   "outputs": [],
   "source": [
    "import pandas as pd\n",
    "import matplotlib\n",
    "%matplotlib inline"
   ]
  },
  {
   "cell_type": "code",
   "execution_count": 3,
   "metadata": {},
   "outputs": [
    {
     "name": "stdout",
     "output_type": "stream",
     "text": [
      "<class 'pandas.core.frame.DataFrame'>\n",
      "RangeIndex: 11670 entries, 0 to 11669\n",
      "Data columns (total 32 columns):\n",
      "speciesGroup                       11670 non-null object\n",
      "extracted                          11670 non-null object\n",
      "taxonomicRankKingdom               11670 non-null object\n",
      "taxonomicRankPhylum                11670 non-null object\n",
      "taxonomicRankClass                 11670 non-null object\n",
      "taxonomicRankOrder                 11670 non-null object\n",
      "taxonomicRankFamily                11670 non-null object\n",
      "taxonomicRankGenus                 11409 non-null object\n",
      "taxonomicRankSpecies               11409 non-null object\n",
      "taxonomicRankSubspecies            74 non-null object\n",
      "scientificName                     261 non-null object\n",
      "taxonomicAuthority                 3722 non-null object\n",
      "taxonomicNotes                     3399 non-null object\n",
      "endemicToEurope                    11670 non-null object\n",
      "europeanRegionalRedListCategory    11259 non-null object\n",
      "europeanRegionalRedListCriteria    2105 non-null object\n",
      "endemicToEu                        10450 non-null object\n",
      "euRegionalRedListCategory          10151 non-null object\n",
      "euRegionalRedListCriteria          1901 non-null object\n",
      "euScope                            9757 non-null object\n",
      "conservationStatusAnalysis         261 non-null object\n",
      "redListCategoryRationale           11670 non-null object\n",
      "populationTrend                    11385 non-null object\n",
      "range                              11316 non-null object\n",
      "population                         11663 non-null object\n",
      "habitat                            11665 non-null object\n",
      "threats                            11661 non-null object\n",
      "conservationAction                 11660 non-null object\n",
      "useAndTrade                        8263 non-null object\n",
      "redListReviewers                   5109 non-null object\n",
      "redListAssessors                   11092 non-null object\n",
      "redListContributors                2042 non-null object\n",
      "dtypes: object(32)\n",
      "memory usage: 2.8+ MB\n"
     ]
    }
   ],
   "source": [
    "with open('European_Red_List_2017_December.csv') as f:\n",
    "    df = pd.read_csv(f)\n",
    "df.info()"
   ]
  },
  {
   "cell_type": "code",
   "execution_count": null,
   "metadata": {},
   "outputs": [
    {
     "data": {
      "text/plain": [
       "<matplotlib.axes._subplots.AxesSubplot at 0x7fb4bd8591c0>"
      ]
     },
     "execution_count": 8,
     "metadata": {},
     "output_type": "execute_result"
    },
    {
     "name": "stderr",
     "output_type": "stream",
     "text": [
      "/home/vault/Code/m2_ds/dataviz/lib/python3.8/site-packages/matplotlib/backends/backend_agg.py:211: RuntimeWarning: Glyph 9 missing from current font.\n",
      "  font.set_text(s, 0.0, flags=flags)\n",
      "/home/vault/Code/m2_ds/dataviz/lib/python3.8/site-packages/matplotlib/backends/backend_agg.py:180: RuntimeWarning: Glyph 9 missing from current font.\n",
      "  font.set_text(s, 0, flags=flags)\n"
     ]
    }
   ],
   "source": [
    "df['habitat'].value_counts().plot(kind='bar')"
   ]
  },
  {
   "cell_type": "code",
   "execution_count": 4,
   "metadata": {},
   "outputs": [
    {
     "name": "stdout",
     "output_type": "stream",
     "text": [
      "10\n"
     ]
    }
   ],
   "source": [
    "dropcols = ['taxonomicAuthority', 'taxonomicNotes', 'europeanRegionalRedListCategory', 'europeanRegionalRedListCriteria', 'euRegionalRedListCategory', 'euRegionalRedListCriteria', 'euScope', 'redListReviewers', 'redListAssessors', 'redListContributors']\n",
    "print(len(dropcols))"
   ]
  },
  {
   "cell_type": "code",
   "execution_count": 5,
   "metadata": {},
   "outputs": [],
   "source": [
    "df_cleared = df.drop(columns=dropcols)"
   ]
  },
  {
   "cell_type": "code",
   "execution_count": null,
   "metadata": {},
   "outputs": [],
   "source": []
  }
 ],
 "metadata": {
  "kernelspec": {
   "display_name": "Python 3",
   "language": "python",
   "name": "python3"
  },
  "language_info": {
   "codemirror_mode": {
    "name": "ipython",
    "version": 3
   },
   "file_extension": ".py",
   "mimetype": "text/x-python",
   "name": "python",
   "nbconvert_exporter": "python",
   "pygments_lexer": "ipython3",
   "version": "3.8.1"
  }
 },
 "nbformat": 4,
 "nbformat_minor": 4
}
