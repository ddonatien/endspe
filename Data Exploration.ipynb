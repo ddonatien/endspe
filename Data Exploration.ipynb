{
 "cells": [
  {
   "cell_type": "code",
   "execution_count": 2,
   "metadata": {},
   "outputs": [],
   "source": [
    "import pandas as pd\n",
    "import matplotlib\n",
    "%matplotlib inline"
   ]
  },
  {
   "cell_type": "code",
   "execution_count": 3,
   "metadata": {},
   "outputs": [
    {
     "name": "stdout",
     "output_type": "stream",
     "text": [
      "<class 'pandas.core.frame.DataFrame'>\n",
      "RangeIndex: 11670 entries, 0 to 11669\n",
      "Data columns (total 32 columns):\n",
      "speciesGroup                       11670 non-null object\n",
      "extracted                          11670 non-null object\n",
      "taxonomicRankKingdom               11670 non-null object\n",
      "taxonomicRankPhylum                11670 non-null object\n",
      "taxonomicRankClass                 11670 non-null object\n",
      "taxonomicRankOrder                 11670 non-null object\n",
      "taxonomicRankFamily                11670 non-null object\n",
      "taxonomicRankGenus                 11409 non-null object\n",
      "taxonomicRankSpecies               11409 non-null object\n",
      "taxonomicRankSubspecies            74 non-null object\n",
      "scientificName                     261 non-null object\n",
      "taxonomicAuthority                 3722 non-null object\n",
      "taxonomicNotes                     3399 non-null object\n",
      "endemicToEurope                    11670 non-null object\n",
      "europeanRegionalRedListCategory    11259 non-null object\n",
      "europeanRegionalRedListCriteria    2105 non-null object\n",
      "endemicToEu                        10450 non-null object\n",
      "euRegionalRedListCategory          10151 non-null object\n",
      "euRegionalRedListCriteria          1901 non-null object\n",
      "euScope                            9757 non-null object\n",
      "conservationStatusAnalysis         261 non-null object\n",
      "redListCategoryRationale           11670 non-null object\n",
      "populationTrend                    11385 non-null object\n",
      "range                              11316 non-null object\n",
      "population                         11663 non-null object\n",
      "habitat                            11665 non-null object\n",
      "threats                            11661 non-null object\n",
      "conservationAction                 11660 non-null object\n",
      "useAndTrade                        8263 non-null object\n",
      "redListReviewers                   5109 non-null object\n",
      "redListAssessors                   11092 non-null object\n",
      "redListContributors                2042 non-null object\n",
      "dtypes: object(32)\n",
      "memory usage: 2.8+ MB\n"
     ]
    }
   ],
   "source": [
    "with open('European_Red_List_2017_December.csv') as f:\n",
    "    df = pd.read_csv(f)\n",
    "df.info()"
   ]
  },
  {
   "cell_type": "code",
   "execution_count": 4,
   "metadata": {},
   "outputs": [
    {
     "data": {
      "text/html": [
       "<div>\n",
       "<style scoped>\n",
       "    .dataframe tbody tr th:only-of-type {\n",
       "        vertical-align: middle;\n",
       "    }\n",
       "\n",
       "    .dataframe tbody tr th {\n",
       "        vertical-align: top;\n",
       "    }\n",
       "\n",
       "    .dataframe thead th {\n",
       "        text-align: right;\n",
       "    }\n",
       "</style>\n",
       "<table border=\"1\" class=\"dataframe\">\n",
       "  <thead>\n",
       "    <tr style=\"text-align: right;\">\n",
       "      <th></th>\n",
       "      <th>speciesGroup</th>\n",
       "      <th>extracted</th>\n",
       "      <th>taxonomicRankKingdom</th>\n",
       "      <th>taxonomicRankPhylum</th>\n",
       "      <th>taxonomicRankClass</th>\n",
       "      <th>taxonomicRankOrder</th>\n",
       "      <th>taxonomicRankFamily</th>\n",
       "      <th>taxonomicRankGenus</th>\n",
       "      <th>taxonomicRankSpecies</th>\n",
       "      <th>taxonomicRankSubspecies</th>\n",
       "      <th>...</th>\n",
       "      <th>populationTrend</th>\n",
       "      <th>range</th>\n",
       "      <th>population</th>\n",
       "      <th>habitat</th>\n",
       "      <th>threats</th>\n",
       "      <th>conservationAction</th>\n",
       "      <th>useAndTrade</th>\n",
       "      <th>redListReviewers</th>\n",
       "      <th>redListAssessors</th>\n",
       "      <th>redListContributors</th>\n",
       "    </tr>\n",
       "  </thead>\n",
       "  <tbody>\n",
       "    <tr>\n",
       "      <th>count</th>\n",
       "      <td>11670</td>\n",
       "      <td>11670</td>\n",
       "      <td>11670</td>\n",
       "      <td>11670</td>\n",
       "      <td>11670</td>\n",
       "      <td>11670</td>\n",
       "      <td>11670</td>\n",
       "      <td>11409</td>\n",
       "      <td>11409</td>\n",
       "      <td>74</td>\n",
       "      <td>...</td>\n",
       "      <td>11385</td>\n",
       "      <td>11316</td>\n",
       "      <td>11663</td>\n",
       "      <td>11665</td>\n",
       "      <td>11661</td>\n",
       "      <td>11660</td>\n",
       "      <td>8263</td>\n",
       "      <td>5109</td>\n",
       "      <td>11092</td>\n",
       "      <td>2042</td>\n",
       "    </tr>\n",
       "    <tr>\n",
       "      <th>unique</th>\n",
       "      <td>15</td>\n",
       "      <td>8</td>\n",
       "      <td>2</td>\n",
       "      <td>7</td>\n",
       "      <td>22</td>\n",
       "      <td>163</td>\n",
       "      <td>593</td>\n",
       "      <td>2684</td>\n",
       "      <td>8117</td>\n",
       "      <td>71</td>\n",
       "      <td>...</td>\n",
       "      <td>5</td>\n",
       "      <td>11221</td>\n",
       "      <td>9349</td>\n",
       "      <td>10922</td>\n",
       "      <td>8021</td>\n",
       "      <td>9557</td>\n",
       "      <td>2415</td>\n",
       "      <td>253</td>\n",
       "      <td>2114</td>\n",
       "      <td>404</td>\n",
       "    </tr>\n",
       "    <tr>\n",
       "      <th>top</th>\n",
       "      <td>Bees</td>\n",
       "      <td>2011_September</td>\n",
       "      <td>ANIMALIA</td>\n",
       "      <td>ARTHROPODA</td>\n",
       "      <td>INSECTA</td>\n",
       "      <td>HYMENOPTERA</td>\n",
       "      <td>HYDROBIIDAE</td>\n",
       "      <td>Andrena</td>\n",
       "      <td>officinalis</td>\n",
       "      <td>lusitanicum</td>\n",
       "      <td>...</td>\n",
       "      <td>Unknown</td>\n",
       "      <td>\\n</td>\n",
       "      <td>Abundant.</td>\n",
       "      <td>This species lives in the dry temperate shrub ...</td>\n",
       "      <td>The threats to this species are unknown.</td>\n",
       "      <td>No information.</td>\n",
       "      <td>This species is not traded or exploited commer...</td>\n",
       "      <td>Bushell, M. &amp; Cálix, M.</td>\n",
       "      <td>van Swaay, C., Wynhoff, I., Verovnik, R., Wiem...</td>\n",
       "      <td>Danielczak, A.</td>\n",
       "    </tr>\n",
       "    <tr>\n",
       "      <th>freq</th>\n",
       "      <td>1965</td>\n",
       "      <td>4460</td>\n",
       "      <td>9250</td>\n",
       "      <td>4365</td>\n",
       "      <td>4365</td>\n",
       "      <td>1965</td>\n",
       "      <td>588</td>\n",
       "      <td>423</td>\n",
       "      <td>24</td>\n",
       "      <td>2</td>\n",
       "      <td>...</td>\n",
       "      <td>6202</td>\n",
       "      <td>25</td>\n",
       "      <td>167</td>\n",
       "      <td>41</td>\n",
       "      <td>608</td>\n",
       "      <td>257</td>\n",
       "      <td>748</td>\n",
       "      <td>389</td>\n",
       "      <td>482</td>\n",
       "      <td>448</td>\n",
       "    </tr>\n",
       "  </tbody>\n",
       "</table>\n",
       "<p>4 rows × 32 columns</p>\n",
       "</div>"
      ],
      "text/plain": [
       "       speciesGroup       extracted taxonomicRankKingdom taxonomicRankPhylum  \\\n",
       "count         11670           11670                11670               11670   \n",
       "unique           15               8                    2                   7   \n",
       "top            Bees  2011_September             ANIMALIA          ARTHROPODA   \n",
       "freq           1965            4460                 9250                4365   \n",
       "\n",
       "       taxonomicRankClass taxonomicRankOrder taxonomicRankFamily  \\\n",
       "count               11670              11670               11670   \n",
       "unique                 22                163                 593   \n",
       "top               INSECTA        HYMENOPTERA         HYDROBIIDAE   \n",
       "freq                 4365               1965                 588   \n",
       "\n",
       "       taxonomicRankGenus taxonomicRankSpecies taxonomicRankSubspecies  ...  \\\n",
       "count               11409                11409                      74  ...   \n",
       "unique               2684                 8117                      71  ...   \n",
       "top               Andrena          officinalis             lusitanicum  ...   \n",
       "freq                  423                   24                       2  ...   \n",
       "\n",
       "       populationTrend  range population  \\\n",
       "count            11385  11316      11663   \n",
       "unique               5  11221       9349   \n",
       "top            Unknown    \\n   Abundant.   \n",
       "freq              6202     25        167   \n",
       "\n",
       "                                                  habitat  \\\n",
       "count                                               11665   \n",
       "unique                                              10922   \n",
       "top     This species lives in the dry temperate shrub ...   \n",
       "freq                                                   41   \n",
       "\n",
       "                                         threats conservationAction  \\\n",
       "count                                      11661              11660   \n",
       "unique                                      8021               9557   \n",
       "top     The threats to this species are unknown.    No information.   \n",
       "freq                                         608                257   \n",
       "\n",
       "                                              useAndTrade  \\\n",
       "count                                                8263   \n",
       "unique                                               2415   \n",
       "top     This species is not traded or exploited commer...   \n",
       "freq                                                  748   \n",
       "\n",
       "               redListReviewers  \\\n",
       "count                      5109   \n",
       "unique                      253   \n",
       "top     Bushell, M. & Cálix, M.   \n",
       "freq                        389   \n",
       "\n",
       "                                         redListAssessors redListContributors  \n",
       "count                                               11092                2042  \n",
       "unique                                               2114                 404  \n",
       "top     van Swaay, C., Wynhoff, I., Verovnik, R., Wiem...      Danielczak, A.  \n",
       "freq                                                  482                 448  \n",
       "\n",
       "[4 rows x 32 columns]"
      ]
     },
     "execution_count": 4,
     "metadata": {},
     "output_type": "execute_result"
    }
   ],
   "source": [
    "df.describe()"
   ]
  },
  {
   "cell_type": "code",
   "execution_count": 5,
   "metadata": {},
   "outputs": [
    {
     "data": {
      "text/plain": [
       "<matplotlib.axes._subplots.AxesSubplot at 0x7fa95f44ba00>"
      ]
     },
     "execution_count": 5,
     "metadata": {},
     "output_type": "execute_result"
    },
    {
     "data": {
      "image/png": "[encoded data removed]",
      "text/plain": [
       "<Figure size 432x288 with 1 Axes>"
      ]
     },
     "metadata": {
      "needs_background": "light"
     },
     "output_type": "display_data"
    }
   ],
   "source": [
    "df['taxonomicRankPhylum'].value_counts().plot(kind='bar')"
   ]
  },
  {
   "cell_type": "code",
   "execution_count": 8,
   "metadata": {},
   "outputs": [
    {
     "name": "stdout",
     "output_type": "stream",
     "text": [
      "11\n"
     ]
    }
   ],
   "source": [
    "dropcols = ['taxonomicAuthority', 'taxonomicNotes', 'europeanRegionalRedListCategory', 'europeanRegionalRedListCriteria', 'euRegionalRedListCategory', 'euRegionalRedListCriteria', 'euScope', 'redListReviewers', 'redListAssessors', 'redListContributors', 'habitat']\n",
    "print(len(dropcols))"
   ]
  },
  {
   "cell_type": "code",
   "execution_count": 9,
   "metadata": {},
   "outputs": [],
   "source": [
    "df_cleared = df.drop(columns=dropcols)"
   ]
  },
  {
   "cell_type": "code",
   "execution_count": 31,
   "metadata": {},
   "outputs": [
    {
     "name": "stdout",
     "output_type": "stream",
     "text": [
      "speciesGroup : 11670 values. 0.0% missing\n",
      "extracted : 11670 values. 0.0% missing\n",
      "taxonomicRankKingdom : 11670 values. 0.0% missing\n",
      "taxonomicRankPhylum : 11670 values. 0.0% missing\n",
      "taxonomicRankClass : 11670 values. 0.0% missing\n",
      "taxonomicRankOrder : 11670 values. 0.0% missing\n",
      "taxonomicRankFamily : 11670 values. 0.0% missing\n",
      "taxonomicRankGenus : 11409 values. 2.24% missing\n",
      "taxonomicRankSpecies : 11409 values. 2.24% missing\n",
      "taxonomicRankSubspecies : 74 values. 99.4% missing\n",
      "scientificName : 261 values. 97.8% missing\n",
      "endemicToEurope : 11670 values. 0.0% missing\n",
      "endemicToEu : 10450 values. 10.5% missing\n",
      "conservationStatusAnalysis : 261 values. 97.8% missing\n",
      "redListCategoryRationale : 11670 values. 0.0% missing\n",
      "populationTrend : 11385 values. 2.44% missing\n",
      "range : 11316 values. 3.03% missing\n",
      "population : 11663 values. 0.06% missing\n",
      "threats : 11661 values. 0.0771% missing\n",
      "conservationAction : 11660 values. 0.0857% missing\n",
      "useAndTrade : 8263 values. 29.2% missing\n"
     ]
    }
   ],
   "source": [
    "for c in df_cleared.columns:\n",
    "    print(f\"{c} : {df_cleared[c].count()} values. {100*(df_cleared.index.stop - df_cleared[c].count())/df_cleared.index.stop:.3}% missing\")"
   ]
  },
  {
   "cell_type": "code",
   "execution_count": 25,
   "metadata": {},
   "outputs": [
    {
     "data": {
      "text/plain": [
       "11670"
      ]
     },
     "execution_count": 25,
     "metadata": {},
     "output_type": "execute_result"
    }
   ],
   "source": [
    "df_cleared.index.stop"
   ]
  },
  {
   "cell_type": "code",
   "execution_count": null,
   "metadata": {},
   "outputs": [],
   "source": []
  }
 ],
 "metadata": {
  "kernelspec": {
   "display_name": "Python 3",
   "language": "python",
   "name": "python3"
  },
  "language_info": {
   "codemirror_mode": {
    "name": "ipython",
    "version": 3
   },
   "file_extension": ".py",
   "mimetype": "text/x-python",
   "name": "python",
   "nbconvert_exporter": "python",
   "pygments_lexer": "ipython3",
   "version": "3.8.1"
  }
 },
 "nbformat": 4,
 "nbformat_minor": 4
}
