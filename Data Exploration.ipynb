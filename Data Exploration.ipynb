{
 "cells": [
  {
   "cell_type": "code",
   "execution_count": 1,
   "metadata": {},
   "outputs": [],
   "source": [
    "import pandas as pd\n",
    "import matplotlib\n",
    "%matplotlib inline"
   ]
  },
  {
   "cell_type": "code",
   "execution_count": 2,
   "metadata": {},
   "outputs": [
    {
     "name": "stdout",
     "output_type": "stream",
     "text": [
      "<class 'pandas.core.frame.DataFrame'>\n",
      "RangeIndex: 11670 entries, 0 to 11669\n",
      "Data columns (total 32 columns):\n",
      " #   Column                           Non-Null Count  Dtype \n",
      "---  ------                           --------------  ----- \n",
      " 0   speciesGroup                     11670 non-null  object\n",
      " 1   extracted                        11670 non-null  object\n",
      " 2   taxonomicRankKingdom             11670 non-null  object\n",
      " 3   taxonomicRankPhylum              11670 non-null  object\n",
      " 4   taxonomicRankClass               11670 non-null  object\n",
      " 5   taxonomicRankOrder               11670 non-null  object\n",
      " 6   taxonomicRankFamily              11670 non-null  object\n",
      " 7   taxonomicRankGenus               11409 non-null  object\n",
      " 8   taxonomicRankSpecies             11409 non-null  object\n",
      " 9   taxonomicRankSubspecies          74 non-null     object\n",
      " 10  scientificName                   261 non-null    object\n",
      " 11  taxonomicAuthority               3722 non-null   object\n",
      " 12  taxonomicNotes                   3399 non-null   object\n",
      " 13  endemicToEurope                  11670 non-null  object\n",
      " 14  europeanRegionalRedListCategory  11259 non-null  object\n",
      " 15  europeanRegionalRedListCriteria  2105 non-null   object\n",
      " 16  endemicToEu                      10450 non-null  object\n",
      " 17  euRegionalRedListCategory        10151 non-null  object\n",
      " 18  euRegionalRedListCriteria        1901 non-null   object\n",
      " 19  euScope                          9757 non-null   object\n",
      " 20  conservationStatusAnalysis       261 non-null    object\n",
      " 21  redListCategoryRationale         11670 non-null  object\n",
      " 22  populationTrend                  11385 non-null  object\n",
      " 23  range                            11316 non-null  object\n",
      " 24  population                       11663 non-null  object\n",
      " 25  habitat                          11665 non-null  object\n",
      " 26  threats                          11661 non-null  object\n",
      " 27  conservationAction               11660 non-null  object\n",
      " 28  useAndTrade                      8263 non-null   object\n",
      " 29  redListReviewers                 5109 non-null   object\n",
      " 30  redListAssessors                 11092 non-null  object\n",
      " 31  redListContributors              2042 non-null   object\n",
      "dtypes: object(32)\n",
      "memory usage: 2.8+ MB\n"
     ]
    }
   ],
   "source": [
    "with open('European_Red_List_2017_December.csv') as f:\n",
    "    df = pd.read_csv(f)\n",
    "df.info()"
   ]
  },
  {
   "cell_type": "code",
   "execution_count": 3,
   "metadata": {},
   "outputs": [
    {
     "data": {
      "text/html": [
       "<div>\n",
       "<style scoped>\n",
       "    .dataframe tbody tr th:only-of-type {\n",
       "        vertical-align: middle;\n",
       "    }\n",
       "\n",
       "    .dataframe tbody tr th {\n",
       "        vertical-align: top;\n",
       "    }\n",
       "\n",
       "    .dataframe thead th {\n",
       "        text-align: right;\n",
       "    }\n",
       "</style>\n",
       "<table border=\"1\" class=\"dataframe\">\n",
       "  <thead>\n",
       "    <tr style=\"text-align: right;\">\n",
       "      <th></th>\n",
       "      <th>speciesGroup</th>\n",
       "      <th>extracted</th>\n",
       "      <th>taxonomicRankKingdom</th>\n",
       "      <th>taxonomicRankPhylum</th>\n",
       "      <th>taxonomicRankClass</th>\n",
       "      <th>taxonomicRankOrder</th>\n",
       "      <th>taxonomicRankFamily</th>\n",
       "      <th>taxonomicRankGenus</th>\n",
       "      <th>taxonomicRankSpecies</th>\n",
       "      <th>taxonomicRankSubspecies</th>\n",
       "      <th>...</th>\n",
       "      <th>populationTrend</th>\n",
       "      <th>range</th>\n",
       "      <th>population</th>\n",
       "      <th>habitat</th>\n",
       "      <th>threats</th>\n",
       "      <th>conservationAction</th>\n",
       "      <th>useAndTrade</th>\n",
       "      <th>redListReviewers</th>\n",
       "      <th>redListAssessors</th>\n",
       "      <th>redListContributors</th>\n",
       "    </tr>\n",
       "  </thead>\n",
       "  <tbody>\n",
       "    <tr>\n",
       "      <th>count</th>\n",
       "      <td>11670</td>\n",
       "      <td>11670</td>\n",
       "      <td>11670</td>\n",
       "      <td>11670</td>\n",
       "      <td>11670</td>\n",
       "      <td>11670</td>\n",
       "      <td>11670</td>\n",
       "      <td>11409</td>\n",
       "      <td>11409</td>\n",
       "      <td>74</td>\n",
       "      <td>...</td>\n",
       "      <td>11385</td>\n",
       "      <td>11316</td>\n",
       "      <td>11663</td>\n",
       "      <td>11665</td>\n",
       "      <td>11661</td>\n",
       "      <td>11660</td>\n",
       "      <td>8263</td>\n",
       "      <td>5109</td>\n",
       "      <td>11092</td>\n",
       "      <td>2042</td>\n",
       "    </tr>\n",
       "    <tr>\n",
       "      <th>unique</th>\n",
       "      <td>15</td>\n",
       "      <td>8</td>\n",
       "      <td>2</td>\n",
       "      <td>7</td>\n",
       "      <td>22</td>\n",
       "      <td>163</td>\n",
       "      <td>593</td>\n",
       "      <td>2684</td>\n",
       "      <td>8117</td>\n",
       "      <td>71</td>\n",
       "      <td>...</td>\n",
       "      <td>5</td>\n",
       "      <td>11221</td>\n",
       "      <td>9349</td>\n",
       "      <td>10922</td>\n",
       "      <td>8021</td>\n",
       "      <td>9557</td>\n",
       "      <td>2415</td>\n",
       "      <td>253</td>\n",
       "      <td>2114</td>\n",
       "      <td>404</td>\n",
       "    </tr>\n",
       "    <tr>\n",
       "      <th>top</th>\n",
       "      <td>Bees</td>\n",
       "      <td>2011_September</td>\n",
       "      <td>ANIMALIA</td>\n",
       "      <td>ARTHROPODA</td>\n",
       "      <td>INSECTA</td>\n",
       "      <td>HYMENOPTERA</td>\n",
       "      <td>HYDROBIIDAE</td>\n",
       "      <td>Andrena</td>\n",
       "      <td>officinalis</td>\n",
       "      <td>lusitanicum</td>\n",
       "      <td>...</td>\n",
       "      <td>Unknown</td>\n",
       "      <td>\\n</td>\n",
       "      <td>Abundant.</td>\n",
       "      <td>This species lives in the dry temperate shrub ...</td>\n",
       "      <td>The threats to this species are unknown.</td>\n",
       "      <td>No information.</td>\n",
       "      <td>This species is not traded or exploited commer...</td>\n",
       "      <td>Bushell, M. &amp; Cálix, M.</td>\n",
       "      <td>van Swaay, C., Wynhoff, I., Verovnik, R., Wiem...</td>\n",
       "      <td>Danielczak, A.</td>\n",
       "    </tr>\n",
       "    <tr>\n",
       "      <th>freq</th>\n",
       "      <td>1965</td>\n",
       "      <td>4460</td>\n",
       "      <td>9250</td>\n",
       "      <td>4365</td>\n",
       "      <td>4365</td>\n",
       "      <td>1965</td>\n",
       "      <td>588</td>\n",
       "      <td>423</td>\n",
       "      <td>24</td>\n",
       "      <td>2</td>\n",
       "      <td>...</td>\n",
       "      <td>6202</td>\n",
       "      <td>25</td>\n",
       "      <td>167</td>\n",
       "      <td>41</td>\n",
       "      <td>608</td>\n",
       "      <td>257</td>\n",
       "      <td>748</td>\n",
       "      <td>389</td>\n",
       "      <td>482</td>\n",
       "      <td>448</td>\n",
       "    </tr>\n",
       "  </tbody>\n",
       "</table>\n",
       "<p>4 rows × 32 columns</p>\n",
       "</div>"
      ],
      "text/plain": [
       "       speciesGroup       extracted taxonomicRankKingdom taxonomicRankPhylum  \\\n",
       "count         11670           11670                11670               11670   \n",
       "unique           15               8                    2                   7   \n",
       "top            Bees  2011_September             ANIMALIA          ARTHROPODA   \n",
       "freq           1965            4460                 9250                4365   \n",
       "\n",
       "       taxonomicRankClass taxonomicRankOrder taxonomicRankFamily  \\\n",
       "count               11670              11670               11670   \n",
       "unique                 22                163                 593   \n",
       "top               INSECTA        HYMENOPTERA         HYDROBIIDAE   \n",
       "freq                 4365               1965                 588   \n",
       "\n",
       "       taxonomicRankGenus taxonomicRankSpecies taxonomicRankSubspecies  ...  \\\n",
       "count               11409                11409                      74  ...   \n",
       "unique               2684                 8117                      71  ...   \n",
       "top               Andrena          officinalis             lusitanicum  ...   \n",
       "freq                  423                   24                       2  ...   \n",
       "\n",
       "       populationTrend  range population  \\\n",
       "count            11385  11316      11663   \n",
       "unique               5  11221       9349   \n",
       "top            Unknown    \\n   Abundant.   \n",
       "freq              6202     25        167   \n",
       "\n",
       "                                                  habitat  \\\n",
       "count                                               11665   \n",
       "unique                                              10922   \n",
       "top     This species lives in the dry temperate shrub ...   \n",
       "freq                                                   41   \n",
       "\n",
       "                                         threats conservationAction  \\\n",
       "count                                      11661              11660   \n",
       "unique                                      8021               9557   \n",
       "top     The threats to this species are unknown.    No information.   \n",
       "freq                                         608                257   \n",
       "\n",
       "                                              useAndTrade  \\\n",
       "count                                                8263   \n",
       "unique                                               2415   \n",
       "top     This species is not traded or exploited commer...   \n",
       "freq                                                  748   \n",
       "\n",
       "               redListReviewers  \\\n",
       "count                      5109   \n",
       "unique                      253   \n",
       "top     Bushell, M. & Cálix, M.   \n",
       "freq                        389   \n",
       "\n",
       "                                         redListAssessors redListContributors  \n",
       "count                                               11092                2042  \n",
       "unique                                               2114                 404  \n",
       "top     van Swaay, C., Wynhoff, I., Verovnik, R., Wiem...      Danielczak, A.  \n",
       "freq                                                  482                 448  \n",
       "\n",
       "[4 rows x 32 columns]"
      ]
     },
     "execution_count": 3,
     "metadata": {},
     "output_type": "execute_result"
    }
   ],
   "source": [
    "df.describe()"
   ]
  },
  {
   "cell_type": "code",
   "execution_count": 4,
   "metadata": {},
   "outputs": [
    {
     "data": {
      "text/plain": [
       "0    It can be locally common in suitable habitat, ...\n",
       "1    Populations of this species are very fragmente...\n",
       "2    The population is approximately 500-1,500 adul...\n",
       "3    it is reported to be declining (including loca...\n",
       "4    In Spain, it is abundant over much of its rang...\n",
       "Name: population, dtype: object"
      ]
     },
     "execution_count": 4,
     "metadata": {},
     "output_type": "execute_result"
    }
   ],
   "source": [
    "df['population'].head()"
   ]
  },
  {
   "cell_type": "code",
   "execution_count": 5,
   "metadata": {
    "scrolled": false
   },
   "outputs": [
    {
     "data": {
      "text/plain": [
       "<matplotlib.axes._subplots.AxesSubplot at 0x7ff07221e9d0>"
      ]
     },
     "execution_count": 5,
     "metadata": {},
     "output_type": "execute_result"
    },
    {
     "data": {
      "image/png": "[encoded data removed]",
      "text/plain": [
       "<Figure size 432x288 with 1 Axes>"
      ]
     },
     "metadata": {
      "needs_background": "light"
     },
     "output_type": "display_data"
    }
   ],
   "source": [
    "df['taxonomicRankKingdom'].value_counts().plot(kind='bar')"
   ]
  },
  {
   "cell_type": "code",
   "execution_count": 6,
   "metadata": {},
   "outputs": [
    {
     "name": "stdout",
     "output_type": "stream",
     "text": [
      "speciesGroup : 11670 values. 0.0% missing\n",
      "extracted : 11670 values. 0.0% missing\n",
      "taxonomicRankKingdom : 11670 values. 0.0% missing\n",
      "taxonomicRankPhylum : 11670 values. 0.0% missing\n",
      "taxonomicRankClass : 11670 values. 0.0% missing\n",
      "taxonomicRankOrder : 11670 values. 0.0% missing\n",
      "taxonomicRankFamily : 11670 values. 0.0% missing\n",
      "taxonomicRankGenus : 11409 values. 2.24% missing\n",
      "taxonomicRankSpecies : 11409 values. 2.24% missing\n",
      "taxonomicRankSubspecies : 74 values. 99.4% missing\n",
      "scientificName : 261 values. 97.8% missing\n",
      "taxonomicAuthority : 3722 values. 68.1% missing\n",
      "taxonomicNotes : 3399 values. 70.9% missing\n",
      "endemicToEurope : 11670 values. 0.0% missing\n",
      "europeanRegionalRedListCategory : 11259 values. 3.52% missing\n",
      "europeanRegionalRedListCriteria : 2105 values. 82.0% missing\n",
      "endemicToEu : 10450 values. 10.5% missing\n",
      "euRegionalRedListCategory : 10151 values. 13.0% missing\n",
      "euRegionalRedListCriteria : 1901 values. 83.7% missing\n",
      "euScope : 9757 values. 16.4% missing\n",
      "conservationStatusAnalysis : 261 values. 97.8% missing\n",
      "redListCategoryRationale : 11670 values. 0.0% missing\n",
      "populationTrend : 11385 values. 2.44% missing\n",
      "range : 11316 values. 3.03% missing\n",
      "population : 11663 values. 0.06% missing\n",
      "habitat : 11665 values. 0.0428% missing\n",
      "threats : 11661 values. 0.0771% missing\n",
      "conservationAction : 11660 values. 0.0857% missing\n",
      "useAndTrade : 8263 values. 29.2% missing\n",
      "redListReviewers : 5109 values. 56.2% missing\n",
      "redListAssessors : 11092 values. 4.95% missing\n",
      "redListContributors : 2042 values. 82.5% missing\n"
     ]
    }
   ],
   "source": [
    "feature_elimination = pd.DataFrame(columns=['name', 'values', 'missing_percent'])\n",
    "for c in df.columns:\n",
    "    print(f\"{c} : {df[c].count()} values. {100*(df.index.stop - df[c].count())/df.index.stop:.3}% missing\")\n",
    "    feature_elimination = feature_elimination.append({'name': c, 'values': df[c].count(), 'missing_percent': int(100*(df.index.stop - df[c].count())/df.index.stop)}, ignore_index=True)"
   ]
  },
  {
   "cell_type": "code",
   "execution_count": 7,
   "metadata": {},
   "outputs": [
    {
     "data": {
      "text/html": [
       "<div>\n",
       "<style scoped>\n",
       "    .dataframe tbody tr th:only-of-type {\n",
       "        vertical-align: middle;\n",
       "    }\n",
       "\n",
       "    .dataframe tbody tr th {\n",
       "        vertical-align: top;\n",
       "    }\n",
       "\n",
       "    .dataframe thead th {\n",
       "        text-align: right;\n",
       "    }\n",
       "</style>\n",
       "<table border=\"1\" class=\"dataframe\">\n",
       "  <thead>\n",
       "    <tr style=\"text-align: right;\">\n",
       "      <th></th>\n",
       "      <th>name</th>\n",
       "      <th>values</th>\n",
       "      <th>missing_percent</th>\n",
       "    </tr>\n",
       "  </thead>\n",
       "  <tbody>\n",
       "    <tr>\n",
       "      <th>9</th>\n",
       "      <td>taxonomicRankSubspecies</td>\n",
       "      <td>74</td>\n",
       "      <td>99</td>\n",
       "    </tr>\n",
       "    <tr>\n",
       "      <th>20</th>\n",
       "      <td>conservationStatusAnalysis</td>\n",
       "      <td>261</td>\n",
       "      <td>97</td>\n",
       "    </tr>\n",
       "    <tr>\n",
       "      <th>10</th>\n",
       "      <td>scientificName</td>\n",
       "      <td>261</td>\n",
       "      <td>97</td>\n",
       "    </tr>\n",
       "    <tr>\n",
       "      <th>18</th>\n",
       "      <td>euRegionalRedListCriteria</td>\n",
       "      <td>1901</td>\n",
       "      <td>83</td>\n",
       "    </tr>\n",
       "    <tr>\n",
       "      <th>31</th>\n",
       "      <td>redListContributors</td>\n",
       "      <td>2042</td>\n",
       "      <td>82</td>\n",
       "    </tr>\n",
       "    <tr>\n",
       "      <th>15</th>\n",
       "      <td>europeanRegionalRedListCriteria</td>\n",
       "      <td>2105</td>\n",
       "      <td>81</td>\n",
       "    </tr>\n",
       "    <tr>\n",
       "      <th>12</th>\n",
       "      <td>taxonomicNotes</td>\n",
       "      <td>3399</td>\n",
       "      <td>70</td>\n",
       "    </tr>\n",
       "    <tr>\n",
       "      <th>11</th>\n",
       "      <td>taxonomicAuthority</td>\n",
       "      <td>3722</td>\n",
       "      <td>68</td>\n",
       "    </tr>\n",
       "    <tr>\n",
       "      <th>29</th>\n",
       "      <td>redListReviewers</td>\n",
       "      <td>5109</td>\n",
       "      <td>56</td>\n",
       "    </tr>\n",
       "    <tr>\n",
       "      <th>28</th>\n",
       "      <td>useAndTrade</td>\n",
       "      <td>8263</td>\n",
       "      <td>29</td>\n",
       "    </tr>\n",
       "    <tr>\n",
       "      <th>19</th>\n",
       "      <td>euScope</td>\n",
       "      <td>9757</td>\n",
       "      <td>16</td>\n",
       "    </tr>\n",
       "    <tr>\n",
       "      <th>17</th>\n",
       "      <td>euRegionalRedListCategory</td>\n",
       "      <td>10151</td>\n",
       "      <td>13</td>\n",
       "    </tr>\n",
       "    <tr>\n",
       "      <th>16</th>\n",
       "      <td>endemicToEu</td>\n",
       "      <td>10450</td>\n",
       "      <td>10</td>\n",
       "    </tr>\n",
       "    <tr>\n",
       "      <th>30</th>\n",
       "      <td>redListAssessors</td>\n",
       "      <td>11092</td>\n",
       "      <td>4</td>\n",
       "    </tr>\n",
       "    <tr>\n",
       "      <th>14</th>\n",
       "      <td>europeanRegionalRedListCategory</td>\n",
       "      <td>11259</td>\n",
       "      <td>3</td>\n",
       "    </tr>\n",
       "    <tr>\n",
       "      <th>23</th>\n",
       "      <td>range</td>\n",
       "      <td>11316</td>\n",
       "      <td>3</td>\n",
       "    </tr>\n",
       "    <tr>\n",
       "      <th>22</th>\n",
       "      <td>populationTrend</td>\n",
       "      <td>11385</td>\n",
       "      <td>2</td>\n",
       "    </tr>\n",
       "    <tr>\n",
       "      <th>8</th>\n",
       "      <td>taxonomicRankSpecies</td>\n",
       "      <td>11409</td>\n",
       "      <td>2</td>\n",
       "    </tr>\n",
       "    <tr>\n",
       "      <th>7</th>\n",
       "      <td>taxonomicRankGenus</td>\n",
       "      <td>11409</td>\n",
       "      <td>2</td>\n",
       "    </tr>\n",
       "    <tr>\n",
       "      <th>25</th>\n",
       "      <td>habitat</td>\n",
       "      <td>11665</td>\n",
       "      <td>0</td>\n",
       "    </tr>\n",
       "    <tr>\n",
       "      <th>2</th>\n",
       "      <td>taxonomicRankKingdom</td>\n",
       "      <td>11670</td>\n",
       "      <td>0</td>\n",
       "    </tr>\n",
       "    <tr>\n",
       "      <th>3</th>\n",
       "      <td>taxonomicRankPhylum</td>\n",
       "      <td>11670</td>\n",
       "      <td>0</td>\n",
       "    </tr>\n",
       "    <tr>\n",
       "      <th>27</th>\n",
       "      <td>conservationAction</td>\n",
       "      <td>11660</td>\n",
       "      <td>0</td>\n",
       "    </tr>\n",
       "    <tr>\n",
       "      <th>26</th>\n",
       "      <td>threats</td>\n",
       "      <td>11661</td>\n",
       "      <td>0</td>\n",
       "    </tr>\n",
       "    <tr>\n",
       "      <th>13</th>\n",
       "      <td>endemicToEurope</td>\n",
       "      <td>11670</td>\n",
       "      <td>0</td>\n",
       "    </tr>\n",
       "    <tr>\n",
       "      <th>24</th>\n",
       "      <td>population</td>\n",
       "      <td>11663</td>\n",
       "      <td>0</td>\n",
       "    </tr>\n",
       "    <tr>\n",
       "      <th>21</th>\n",
       "      <td>redListCategoryRationale</td>\n",
       "      <td>11670</td>\n",
       "      <td>0</td>\n",
       "    </tr>\n",
       "    <tr>\n",
       "      <th>4</th>\n",
       "      <td>taxonomicRankClass</td>\n",
       "      <td>11670</td>\n",
       "      <td>0</td>\n",
       "    </tr>\n",
       "    <tr>\n",
       "      <th>5</th>\n",
       "      <td>taxonomicRankOrder</td>\n",
       "      <td>11670</td>\n",
       "      <td>0</td>\n",
       "    </tr>\n",
       "    <tr>\n",
       "      <th>6</th>\n",
       "      <td>taxonomicRankFamily</td>\n",
       "      <td>11670</td>\n",
       "      <td>0</td>\n",
       "    </tr>\n",
       "    <tr>\n",
       "      <th>1</th>\n",
       "      <td>extracted</td>\n",
       "      <td>11670</td>\n",
       "      <td>0</td>\n",
       "    </tr>\n",
       "    <tr>\n",
       "      <th>0</th>\n",
       "      <td>speciesGroup</td>\n",
       "      <td>11670</td>\n",
       "      <td>0</td>\n",
       "    </tr>\n",
       "  </tbody>\n",
       "</table>\n",
       "</div>"
      ],
      "text/plain": [
       "                               name values missing_percent\n",
       "9           taxonomicRankSubspecies     74              99\n",
       "20       conservationStatusAnalysis    261              97\n",
       "10                   scientificName    261              97\n",
       "18        euRegionalRedListCriteria   1901              83\n",
       "31              redListContributors   2042              82\n",
       "15  europeanRegionalRedListCriteria   2105              81\n",
       "12                   taxonomicNotes   3399              70\n",
       "11               taxonomicAuthority   3722              68\n",
       "29                 redListReviewers   5109              56\n",
       "28                      useAndTrade   8263              29\n",
       "19                          euScope   9757              16\n",
       "17        euRegionalRedListCategory  10151              13\n",
       "16                      endemicToEu  10450              10\n",
       "30                 redListAssessors  11092               4\n",
       "14  europeanRegionalRedListCategory  11259               3\n",
       "23                            range  11316               3\n",
       "22                  populationTrend  11385               2\n",
       "8              taxonomicRankSpecies  11409               2\n",
       "7                taxonomicRankGenus  11409               2\n",
       "25                          habitat  11665               0\n",
       "2              taxonomicRankKingdom  11670               0\n",
       "3               taxonomicRankPhylum  11670               0\n",
       "27               conservationAction  11660               0\n",
       "26                          threats  11661               0\n",
       "13                  endemicToEurope  11670               0\n",
       "24                       population  11663               0\n",
       "21         redListCategoryRationale  11670               0\n",
       "4                taxonomicRankClass  11670               0\n",
       "5                taxonomicRankOrder  11670               0\n",
       "6               taxonomicRankFamily  11670               0\n",
       "1                         extracted  11670               0\n",
       "0                      speciesGroup  11670               0"
      ]
     },
     "execution_count": 7,
     "metadata": {},
     "output_type": "execute_result"
    }
   ],
   "source": [
    "feature_elimination.sort_values('missing_percent', ascending=False)"
   ]
  },
  {
   "cell_type": "markdown",
   "metadata": {},
   "source": [
    "Les colonnes _taxonomicRankSubspecies_ , _conservationStatusAnalysis_ , _scientificName_ , _euRegionalRedListCriteria_ , _redListContributors_ , _europeanRegionalRedListCriteria_ , _taxonomicNotes_ , _taxonomicAuthority_ et _redListReviewers_ contiennent une majorité de valeurs manquantes, cependant on peut supposer qu'elle ne sont pas toutes importantes pour notre visualisation.  \n",
    "De manière générale on cherche maintenant à déterminer pour chaque colonne si elle est utile, et si elle l'est comment palier aux données manquantes."
   ]
  },
  {
   "cell_type": "code",
   "execution_count": 8,
   "metadata": {},
   "outputs": [
    {
     "name": "stdout",
     "output_type": "stream",
     "text": [
      "12\n"
     ]
    }
   ],
   "source": [
    "dropcols = ['extracted', 'taxonomicRankSubspecies', 'taxonomicAuthority', 'taxonomicNotes', 'europeanRegionalRedListCategory', 'europeanRegionalRedListCriteria', 'endemicToEurope', 'endemicToEu', 'euScope', 'redListReviewers', 'redListAssessors', 'redListContributors', 'habitat']\n",
    "print(len(dropcols))"
   ]
  },
  {
   "cell_type": "code",
   "execution_count": 9,
   "metadata": {},
   "outputs": [],
   "source": [
    "df_cleared = df.drop(columns=dropcols)"
   ]
  },
  {
   "cell_type": "code",
   "execution_count": 10,
   "metadata": {},
   "outputs": [],
   "source": [
    "df.to_csv('European_Red_List_2017_December_cleared.csv')"
   ]
  },
  {
   "cell_type": "markdown",
   "metadata": {},
   "source": [
    "# Rearranging data"
   ]
  },
  {
   "cell_type": "code",
   "execution_count": 2,
   "metadata": {},
   "outputs": [],
   "source": [
    "with open('European_Red_List_2017_December_cleared.csv') as f:\n",
    "    df = pd.read_csv(f)"
   ]
  },
  {
   "cell_type": "code",
   "execution_count": 3,
   "metadata": {},
   "outputs": [
    {
     "data": {
      "text/html": [
       "<div>\n",
       "<style scoped>\n",
       "    .dataframe tbody tr th:only-of-type {\n",
       "        vertical-align: middle;\n",
       "    }\n",
       "\n",
       "    .dataframe tbody tr th {\n",
       "        vertical-align: top;\n",
       "    }\n",
       "\n",
       "    .dataframe thead th {\n",
       "        text-align: right;\n",
       "    }\n",
       "</style>\n",
       "<table border=\"1\" class=\"dataframe\">\n",
       "  <thead>\n",
       "    <tr style=\"text-align: right;\">\n",
       "      <th></th>\n",
       "      <th>Unnamed: 0</th>\n",
       "      <th>speciesGroup</th>\n",
       "      <th>extracted</th>\n",
       "      <th>taxonomicRankKingdom</th>\n",
       "      <th>taxonomicRankPhylum</th>\n",
       "      <th>taxonomicRankClass</th>\n",
       "      <th>taxonomicRankOrder</th>\n",
       "      <th>taxonomicRankFamily</th>\n",
       "      <th>taxonomicRankGenus</th>\n",
       "      <th>taxonomicRankSpecies</th>\n",
       "      <th>...</th>\n",
       "      <th>populationTrend</th>\n",
       "      <th>range</th>\n",
       "      <th>population</th>\n",
       "      <th>habitat</th>\n",
       "      <th>threats</th>\n",
       "      <th>conservationAction</th>\n",
       "      <th>useAndTrade</th>\n",
       "      <th>redListReviewers</th>\n",
       "      <th>redListAssessors</th>\n",
       "      <th>redListContributors</th>\n",
       "    </tr>\n",
       "  </thead>\n",
       "  <tbody>\n",
       "    <tr>\n",
       "      <th>0</th>\n",
       "      <td>0</td>\n",
       "      <td>Amphibians_Reptiles</td>\n",
       "      <td>2009_November</td>\n",
       "      <td>ANIMALIA</td>\n",
       "      <td>CHORDATA</td>\n",
       "      <td>AMPHIBIA</td>\n",
       "      <td>ANURA</td>\n",
       "      <td>ALYTIDAE</td>\n",
       "      <td>Alytes</td>\n",
       "      <td>cisternasii</td>\n",
       "      <td>...</td>\n",
       "      <td>Decreasing</td>\n",
       "      <td>This species is restricted to southern and eas...</td>\n",
       "      <td>It can be locally common in suitable habitat, ...</td>\n",
       "      <td>This species is closely associated with meadow...</td>\n",
       "      <td>The main threats are the loss of suitable Medi...</td>\n",
       "      <td>It is known to occur in Cabañeros and Doñana N...</td>\n",
       "      <td>NaN</td>\n",
       "      <td>NaN</td>\n",
       "      <td>Pedro Beja, Jaime Bosch, Miguel Tejedo, Miguel...</td>\n",
       "      <td>NaN</td>\n",
       "    </tr>\n",
       "    <tr>\n",
       "      <th>1</th>\n",
       "      <td>1</td>\n",
       "      <td>Amphibians_Reptiles</td>\n",
       "      <td>2009_November</td>\n",
       "      <td>ANIMALIA</td>\n",
       "      <td>CHORDATA</td>\n",
       "      <td>AMPHIBIA</td>\n",
       "      <td>ANURA</td>\n",
       "      <td>ALYTIDAE</td>\n",
       "      <td>Alytes</td>\n",
       "      <td>dickhilleni</td>\n",
       "      <td>...</td>\n",
       "      <td>Decreasing</td>\n",
       "      <td>This species is restricted to the mountains of...</td>\n",
       "      <td>Populations of this species are very fragmente...</td>\n",
       "      <td>The species is present in pine and oak forests...</td>\n",
       "      <td>The species is threatened by loss of suitable ...</td>\n",
       "      <td>This species is listed on Appendix II of the B...</td>\n",
       "      <td>NaN</td>\n",
       "      <td>NaN</td>\n",
       "      <td>Jaime Bosch, Miguel Tejedo, Miguel Lizana, Iñi...</td>\n",
       "      <td>NaN</td>\n",
       "    </tr>\n",
       "    <tr>\n",
       "      <th>2</th>\n",
       "      <td>2</td>\n",
       "      <td>Amphibians_Reptiles</td>\n",
       "      <td>2009_November</td>\n",
       "      <td>ANIMALIA</td>\n",
       "      <td>CHORDATA</td>\n",
       "      <td>AMPHIBIA</td>\n",
       "      <td>ANURA</td>\n",
       "      <td>ALYTIDAE</td>\n",
       "      <td>Alytes</td>\n",
       "      <td>muletensis</td>\n",
       "      <td>...</td>\n",
       "      <td>Increasing</td>\n",
       "      <td>This species is restricted to the Sierra Tramu...</td>\n",
       "      <td>The population is approximately 500-1,500 adul...</td>\n",
       "      <td>It is currently found only in small streams de...</td>\n",
       "      <td>The major threats are predation by the introdu...</td>\n",
       "      <td>The species is protected by sub-national and n...</td>\n",
       "      <td>NaN</td>\n",
       "      <td>NaN</td>\n",
       "      <td>Joan Mayol Serra, Richard Griffiths, Jaime Bos...</td>\n",
       "      <td>NaN</td>\n",
       "    </tr>\n",
       "    <tr>\n",
       "      <th>3</th>\n",
       "      <td>3</td>\n",
       "      <td>Amphibians_Reptiles</td>\n",
       "      <td>2009_November</td>\n",
       "      <td>ANIMALIA</td>\n",
       "      <td>CHORDATA</td>\n",
       "      <td>AMPHIBIA</td>\n",
       "      <td>ANURA</td>\n",
       "      <td>ALYTIDAE</td>\n",
       "      <td>Alytes</td>\n",
       "      <td>obstetricans</td>\n",
       "      <td>...</td>\n",
       "      <td>Decreasing</td>\n",
       "      <td>This species ranges from the northern half of ...</td>\n",
       "      <td>it is reported to be declining (including loca...</td>\n",
       "      <td>It lives in terrestrial habitats, including te...</td>\n",
       "      <td>General habitat loss, largely to agricultural ...</td>\n",
       "      <td>The species is listed on Appendix II of the Be...</td>\n",
       "      <td>NaN</td>\n",
       "      <td>NaN</td>\n",
       "      <td>Jaime Bosch, Trevor Beebee, Benedikt Schmidt, ...</td>\n",
       "      <td>NaN</td>\n",
       "    </tr>\n",
       "    <tr>\n",
       "      <th>4</th>\n",
       "      <td>4</td>\n",
       "      <td>Amphibians_Reptiles</td>\n",
       "      <td>2009_November</td>\n",
       "      <td>ANIMALIA</td>\n",
       "      <td>CHORDATA</td>\n",
       "      <td>AMPHIBIA</td>\n",
       "      <td>ANURA</td>\n",
       "      <td>ALYTIDAE</td>\n",
       "      <td>Discoglossus</td>\n",
       "      <td>galganoi</td>\n",
       "      <td>...</td>\n",
       "      <td>Decreasing</td>\n",
       "      <td>The species is endemic to the Iberian Peninsul...</td>\n",
       "      <td>In Spain, it is abundant over much of its rang...</td>\n",
       "      <td>It is generally found within or in the direct ...</td>\n",
       "      <td>The main threats to this species are both a ge...</td>\n",
       "      <td>This species is listed on Appendix II of the B...</td>\n",
       "      <td>NaN</td>\n",
       "      <td>NaN</td>\n",
       "      <td>Jaime Bosch, Pedro Beja, Miguel Tejedo, Miguel...</td>\n",
       "      <td>NaN</td>\n",
       "    </tr>\n",
       "  </tbody>\n",
       "</table>\n",
       "<p>5 rows × 33 columns</p>\n",
       "</div>"
      ],
      "text/plain": [
       "   Unnamed: 0         speciesGroup      extracted taxonomicRankKingdom  \\\n",
       "0           0  Amphibians_Reptiles  2009_November             ANIMALIA   \n",
       "1           1  Amphibians_Reptiles  2009_November             ANIMALIA   \n",
       "2           2  Amphibians_Reptiles  2009_November             ANIMALIA   \n",
       "3           3  Amphibians_Reptiles  2009_November             ANIMALIA   \n",
       "4           4  Amphibians_Reptiles  2009_November             ANIMALIA   \n",
       "\n",
       "  taxonomicRankPhylum taxonomicRankClass taxonomicRankOrder  \\\n",
       "0            CHORDATA           AMPHIBIA              ANURA   \n",
       "1            CHORDATA           AMPHIBIA              ANURA   \n",
       "2            CHORDATA           AMPHIBIA              ANURA   \n",
       "3            CHORDATA           AMPHIBIA              ANURA   \n",
       "4            CHORDATA           AMPHIBIA              ANURA   \n",
       "\n",
       "  taxonomicRankFamily taxonomicRankGenus taxonomicRankSpecies  ...  \\\n",
       "0            ALYTIDAE             Alytes          cisternasii  ...   \n",
       "1            ALYTIDAE             Alytes          dickhilleni  ...   \n",
       "2            ALYTIDAE             Alytes           muletensis  ...   \n",
       "3            ALYTIDAE             Alytes         obstetricans  ...   \n",
       "4            ALYTIDAE       Discoglossus             galganoi  ...   \n",
       "\n",
       "  populationTrend                                              range  \\\n",
       "0      Decreasing  This species is restricted to southern and eas...   \n",
       "1      Decreasing  This species is restricted to the mountains of...   \n",
       "2      Increasing  This species is restricted to the Sierra Tramu...   \n",
       "3      Decreasing  This species ranges from the northern half of ...   \n",
       "4      Decreasing  The species is endemic to the Iberian Peninsul...   \n",
       "\n",
       "                                          population  \\\n",
       "0  It can be locally common in suitable habitat, ...   \n",
       "1  Populations of this species are very fragmente...   \n",
       "2  The population is approximately 500-1,500 adul...   \n",
       "3  it is reported to be declining (including loca...   \n",
       "4  In Spain, it is abundant over much of its rang...   \n",
       "\n",
       "                                             habitat  \\\n",
       "0  This species is closely associated with meadow...   \n",
       "1  The species is present in pine and oak forests...   \n",
       "2  It is currently found only in small streams de...   \n",
       "3  It lives in terrestrial habitats, including te...   \n",
       "4  It is generally found within or in the direct ...   \n",
       "\n",
       "                                             threats  \\\n",
       "0  The main threats are the loss of suitable Medi...   \n",
       "1  The species is threatened by loss of suitable ...   \n",
       "2  The major threats are predation by the introdu...   \n",
       "3  General habitat loss, largely to agricultural ...   \n",
       "4  The main threats to this species are both a ge...   \n",
       "\n",
       "                                  conservationAction useAndTrade  \\\n",
       "0  It is known to occur in Cabañeros and Doñana N...         NaN   \n",
       "1  This species is listed on Appendix II of the B...         NaN   \n",
       "2  The species is protected by sub-national and n...         NaN   \n",
       "3  The species is listed on Appendix II of the Be...         NaN   \n",
       "4  This species is listed on Appendix II of the B...         NaN   \n",
       "\n",
       "  redListReviewers                                   redListAssessors  \\\n",
       "0              NaN  Pedro Beja, Jaime Bosch, Miguel Tejedo, Miguel...   \n",
       "1              NaN  Jaime Bosch, Miguel Tejedo, Miguel Lizana, Iñi...   \n",
       "2              NaN  Joan Mayol Serra, Richard Griffiths, Jaime Bos...   \n",
       "3              NaN  Jaime Bosch, Trevor Beebee, Benedikt Schmidt, ...   \n",
       "4              NaN  Jaime Bosch, Pedro Beja, Miguel Tejedo, Miguel...   \n",
       "\n",
       "  redListContributors  \n",
       "0                 NaN  \n",
       "1                 NaN  \n",
       "2                 NaN  \n",
       "3                 NaN  \n",
       "4                 NaN  \n",
       "\n",
       "[5 rows x 33 columns]"
      ]
     },
     "execution_count": 3,
     "metadata": {},
     "output_type": "execute_result"
    }
   ],
   "source": [
    "df.head()"
   ]
  },
  {
   "cell_type": "code",
   "execution_count": 35,
   "metadata": {},
   "outputs": [],
   "source": [
    "a = df.groupby(['taxonomicRankKingdom', 'taxonomicRankPhylum', 'taxonomicRankClass', 'taxonomicRankOrder', 'taxonomicRankFamily', 'taxonomicRankGenus', 'taxonomicRankSpecies', 'taxonomicRankSubspecies']).sum()"
   ]
  },
  {
   "cell_type": "code",
   "execution_count": 102,
   "metadata": {},
   "outputs": [
    {
     "name": "stdout",
     "output_type": "stream",
     "text": [
      "aaaaaa\n",
      "ANIMALIA\n",
      "2.256\n",
      "PLANTAE\n",
      "2.132\n",
      "bbbbbb\n"
     ]
    }
   ],
   "source": [
    "import csv\n",
    "\n",
    "csv_columns = ['id', 'value']\n",
    "phyloTree =  ['taxonomicRankKingdom', 'taxonomicRankPhylum', 'taxonomicRankClass', 'taxonomicRankOrder', 'taxonomicRankFamily', 'taxonomicRankGenus', 'taxonomicRankSpecies', 'taxonomicRankSubspecies']\n",
    "col = 'europeanRegionalRedListCategory'\n",
    "data_csv = []\n",
    "def recur_fill(str_base, parent, idx, val):\n",
    "    data_csv.append({'id': str_base, 'value': val})\n",
    "    if idx+1 < len(phyloTree) - 4:\n",
    "        if idx-1 < 0:\n",
    "            for a in df.loc[:, phyloTree[idx]].unique():\n",
    "                val = df.loc[df[phyloTree[idx]]==a][col].sum()/df.loc[df[phyloTree[idx]]==a][col].count()\n",
    "                val = float(f'{val:.3f}')\n",
    "                recur_fill(f'{str_base}.{a}', a, idx + 1, val)\n",
    "        else:\n",
    "            for a in df[df[phyloTree[idx-1]] == parent].loc[:, phyloTree[idx]].unique():\n",
    "                val = df.loc[df[phyloTree[idx]]==a][col].sum()/df.loc[df[phyloTree[idx]]==a][col].count()\n",
    "                val = float(f'{val:.3f}')\n",
    "                recur_fill(f'{str_base}.{a}', a, idx + 1, val)\n",
    "\n",
    "print('aaaaaa')\n",
    "val = df['europeanRegionalRedListCategory'].sum()/df['europeanRegionalRedListCategory'].count()\n",
    "val = float(f'{val:.3f}')\n",
    "recur_fill('R', 'None', 0, val)\n",
    "print('bbbbbb')\n",
    "\n",
    "csv_file = \"phylo.csv\"\n",
    "try:\n",
    "    with open(csv_file, 'w') as csvfile:\n",
    "        writer = csv.DictWriter(csvfile, fieldnames=csv_columns)\n",
    "        writer.writeheader()\n",
    "        for data in data_csv:\n",
    "            writer.writerow(data)\n",
    "except IOError:\n",
    "    print(\"I/O error\")"
   ]
  },
  {
   "cell_type": "code",
   "execution_count": 14,
   "metadata": {},
   "outputs": [
    {
     "data": {
      "text/plain": [
       "array(['NT', 'VU', 'LC', 'EN', nan, 'DD', 'CR', 'NE', 'EX', 'RE', 'EW',\n",
       "       'CR (PE)'], dtype=object)"
      ]
     },
     "execution_count": 14,
     "metadata": {},
     "output_type": "execute_result"
    }
   ],
   "source": [
    "df.loc[:, 'europeanRegionalRedListCategory'].unique()"
   ]
  },
  {
   "cell_type": "code",
   "execution_count": 25,
   "metadata": {},
   "outputs": [
    {
     "data": {
      "text/plain": [
       "(11670, 33)"
      ]
     },
     "execution_count": 25,
     "metadata": {},
     "output_type": "execute_result"
    }
   ],
   "source": [
    "df.shape"
   ]
  },
  {
   "cell_type": "code",
   "execution_count": 63,
   "metadata": {},
   "outputs": [],
   "source": [
    "idxs = df.loc[df['europeanRegionalRedListCategory'] == 'RE'].index"
   ]
  },
  {
   "cell_type": "code",
   "execution_count": 64,
   "metadata": {},
   "outputs": [],
   "source": [
    "df = df.drop(idxs)"
   ]
  },
  {
   "cell_type": "code",
   "execution_count": 65,
   "metadata": {},
   "outputs": [
    {
     "data": {
      "text/plain": [
       "(8830, 33)"
      ]
     },
     "execution_count": 65,
     "metadata": {},
     "output_type": "execute_result"
    }
   ],
   "source": [
    "df.shape"
   ]
  },
  {
   "cell_type": "code",
   "execution_count": 60,
   "metadata": {},
   "outputs": [],
   "source": [
    "bck = df.copy()"
   ]
  },
  {
   "cell_type": "code",
   "execution_count": 53,
   "metadata": {},
   "outputs": [
    {
     "name": "stderr",
     "output_type": "stream",
     "text": [
      "<ipython-input-53-b5f1a0a85333>:1: SettingWithCopyWarning: \n",
      "A value is trying to be set on a copy of a slice from a DataFrame.\n",
      "Try using .loc[row_indexer,col_indexer] = value instead\n",
      "\n",
      "See the caveats in the documentation: https://pandas.pydata.org/pandas-docs/stable/user_guide/indexing.html#returning-a-view-versus-a-copy\n",
      "  df.loc[df['europeanRegionalRedListCategory'] == 'CR']['europeanRegionalRedListCategory']=-3\n"
     ]
    }
   ],
   "source": [
    "df.loc[df['europeanRegionalRedListCategory'] == 'CR']['europeanRegionalRedListCategory']=-3"
   ]
  },
  {
   "cell_type": "code",
   "execution_count": 66,
   "metadata": {},
   "outputs": [],
   "source": [
    "def CatToInt(x):\n",
    "    if x == 'EX':\n",
    "        return -3\n",
    "    elif x == 'EW':\n",
    "        return -2\n",
    "    elif x == 'CR':\n",
    "        return -1\n",
    "    elif x == 'EN':\n",
    "        return 0\n",
    "    elif x == 'VU':\n",
    "        return 1\n",
    "    elif x == 'NT':\n",
    "        return 2\n",
    "    elif x == 'LC':\n",
    "        return 3"
   ]
  },
  {
   "cell_type": "code",
   "execution_count": 68,
   "metadata": {},
   "outputs": [],
   "source": [
    "df.loc[:, 'europeanRegionalRedListCategory'] = df['europeanRegionalRedListCategory'].apply(CatToInt)"
   ]
  },
  {
   "cell_type": "code",
   "execution_count": 69,
   "metadata": {},
   "outputs": [
    {
     "data": {
      "text/plain": [
       "array(['NT', 'VU', 'LC', 'EN', 'CR', 'EX', 'RE', 'EW'], dtype=object)"
      ]
     },
     "execution_count": 69,
     "metadata": {},
     "output_type": "execute_result"
    }
   ],
   "source": [
    "bck.loc[:, 'europeanRegionalRedListCategory'].unique()"
   ]
  },
  {
   "cell_type": "code",
   "execution_count": 70,
   "metadata": {},
   "outputs": [
    {
     "data": {
      "text/plain": [
       "array([ 2,  1,  3,  0, -1, -3, -2])"
      ]
     },
     "execution_count": 70,
     "metadata": {},
     "output_type": "execute_result"
    }
   ],
   "source": [
    "df.loc[:, 'europeanRegionalRedListCategory'].unique()"
   ]
  },
  {
   "cell_type": "code",
   "execution_count": 81,
   "metadata": {},
   "outputs": [
    {
     "data": {
      "text/plain": [
       "2.256"
      ]
     },
     "execution_count": 81,
     "metadata": {},
     "output_type": "execute_result"
    }
   ],
   "source": [
    "val = df.loc[df['taxonomicRankKingdom']=='ANIMALIA']['europeanRegionalRedListCategory'].sum()/df.loc[df['taxonomicRankKingdom']=='ANIMALIA']['europeanRegionalRedListCategory'].count()\n",
    "val = float(f'{val:.3f}')"
   ]
  },
  {
   "cell_type": "code",
   "execution_count": 84,
   "metadata": {},
   "outputs": [],
   "source": [
    "val = df['europeanRegionalRedListCategory'].sum()/df['europeanRegionalRedListCategory'].count()\n",
    "val = float(f'{val:.3f}')"
   ]
  },
  {
   "cell_type": "code",
   "execution_count": 85,
   "metadata": {},
   "outputs": [
    {
     "data": {
      "text/plain": [
       "2.228"
      ]
     },
     "execution_count": 85,
     "metadata": {},
     "output_type": "execute_result"
    }
   ],
   "source": [
    "val"
   ]
  },
  {
   "cell_type": "code",
   "execution_count": 90,
   "metadata": {},
   "outputs": [
    {
     "data": {
      "text/plain": [
       "Unnamed: 0                         1962\n",
       "speciesGroup                       1962\n",
       "extracted                          1962\n",
       "taxonomicRankKingdom               1962\n",
       "taxonomicRankPhylum                1962\n",
       "taxonomicRankClass                 1962\n",
       "taxonomicRankOrder                 1962\n",
       "taxonomicRankFamily                1962\n",
       "taxonomicRankGenus                 1962\n",
       "taxonomicRankSpecies               1962\n",
       "taxonomicRankSubspecies              37\n",
       "scientificName                        0\n",
       "taxonomicAuthority                  185\n",
       "taxonomicNotes                      947\n",
       "endemicToEurope                    1962\n",
       "europeanRegionalRedListCategory    1962\n",
       "europeanRegionalRedListCriteria     516\n",
       "endemicToEu                        1962\n",
       "euRegionalRedListCategory          1961\n",
       "euRegionalRedListCriteria           482\n",
       "euScope                            1962\n",
       "conservationStatusAnalysis            0\n",
       "redListCategoryRationale           1962\n",
       "populationTrend                    1956\n",
       "range                              1958\n",
       "population                         1961\n",
       "habitat                            1962\n",
       "threats                            1962\n",
       "conservationAction                 1962\n",
       "useAndTrade                        1353\n",
       "redListReviewers                    185\n",
       "redListAssessors                   1962\n",
       "redListContributors                  33\n",
       "dtype: int64"
      ]
     },
     "execution_count": 90,
     "metadata": {},
     "output_type": "execute_result"
    }
   ],
   "source": [
    "df.loc[df['taxonomicRankKingdom']=='PLANTAE'].count()"
   ]
  },
  {
   "cell_type": "code",
   "execution_count": null,
   "metadata": {},
   "outputs": [],
   "source": []
  }
 ],
 "metadata": {
  "kernelspec": {
   "display_name": "Python 3",
   "language": "python",
   "name": "python3"
  },
  "language_info": {
   "codemirror_mode": {
    "name": "ipython",
    "version": 3
   },
   "file_extension": ".py",
   "mimetype": "text/x-python",
   "name": "python",
   "nbconvert_exporter": "python",
   "pygments_lexer": "ipython3",
   "version": "3.8.1"
  }
 },
 "nbformat": 4,
 "nbformat_minor": 4
}
